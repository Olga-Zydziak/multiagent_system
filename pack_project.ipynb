{
 "cells": [
  {
   "cell_type": "code",
   "execution_count": 1,
   "id": "539ad44c-a9fd-49a2-8480-05012868cba6",
   "metadata": {
    "tags": []
   },
   "outputs": [],
   "source": [
    "import os\n",
    "import json"
   ]
  },
  {
   "cell_type": "code",
   "execution_count": 2,
   "id": "2cce8bae-214d-4398-87db-2030f7be468d",
   "metadata": {
    "tags": []
   },
   "outputs": [],
   "source": [
    "def read_py_file(file_path):\n",
    "    \"\"\"Odczytuje zawartość pliku .py jako tekst.\"\"\"\n",
    "    with open(file_path, 'r', encoding='utf-8') as f:\n",
    "        return f.read()"
   ]
  },
  {
   "cell_type": "code",
   "execution_count": 3,
   "id": "753e9e8c-9809-4e39-bb08-66b77160730d",
   "metadata": {
    "tags": []
   },
   "outputs": [],
   "source": [
    "def read_ipynb_file(file_path):\n",
    "    \"\"\"Odczytuje i łączy komórki kodu z pliku .ipynb.\"\"\"\n",
    "    with open(file_path, 'r', encoding='utf-8') as f:\n",
    "        notebook = json.load(f)\n",
    "    \n",
    "    code_content = []\n",
    "    for cell in notebook.get('cells', []):\n",
    "        if cell.get('cell_type') == 'code':\n",
    "            code_content.append(''.join(cell.get('source', [])))\n",
    "    return \"\\n# --- Koniec komórki ---\\n\".join(code_content)"
   ]
  },
  {
   "cell_type": "code",
   "execution_count": 6,
   "id": "979af870-2962-4e0d-9913-7d63add8452e",
   "metadata": {
    "tags": []
   },
   "outputs": [],
   "source": [
    "def consolidate_project_to_txt(root_dir='.', output_file='caly_projekt.txt'):\n",
    "    \"\"\"\n",
    "    Zbiera zawartość plików .py i .ipynb w projekcie do jednego pliku tekstowego.\n",
    "    \"\"\"\n",
    "    # Zestawy nazw do zignorowania - osobno dla katalogów i plików\n",
    "    ignore_dirs = {'.git', '.venv', 'venv', '__pycache__', '.ipynb_checkpoints'}\n",
    "    ignore_files = {'Agents_beta (10).py','pack_project.ipynb', 'caly_projekt.txt'}\n",
    "\n",
    "    with open(output_file, 'w', encoding='utf-8') as outfile:\n",
    "        # Używamy os.walk z topdown=True (domyślnie), co pozwala modyfikować dirnames\n",
    "        for dirpath, dirnames, filenames in os.walk(root_dir):\n",
    "            \n",
    "            # === KLUCZOWA POPRAWKA ===\n",
    "            # Modyfikujemy listę `dirnames` W MIEJSCU, aby os.walk nie wchodził\n",
    "            # do katalogów, które chcemy zignorować.\n",
    "            dirnames[:] = [d for d in dirnames if d not in ignore_dirs]\n",
    "            \n",
    "            for filename in sorted(filenames):\n",
    "                if filename in ignore_files:\n",
    "                    continue\n",
    "                \n",
    "                if not (filename.endswith('.py') or filename.endswith('.ipynb')):\n",
    "                    continue\n",
    "\n",
    "                relative_path = os.path.join(dirpath, filename)\n",
    "                normalized_path = os.path.normpath(relative_path).replace(os.sep, '/')\n",
    "\n",
    "                outfile.write(f\"--- FILE: {normalized_path} ---\\n\\n\")\n",
    "                \n",
    "                try:\n",
    "                    content = \"\"\n",
    "                    if filename.endswith('.py'):\n",
    "                        content = read_py_file(relative_path)\n",
    "                    elif filename.endswith('.ipynb'):\n",
    "                        content = read_ipynb_file(relative_path)\n",
    "                    \n",
    "                    outfile.write(content)\n",
    "                    outfile.write(\"\\n\\n\\n\")\n",
    "                except Exception as e:\n",
    "                    outfile.write(f\"### BŁĄD ODCZYTU PLIKU: {e} ###\\n\\n\\n\")\n",
    "                            \n",
    "    print(f\"✅ Plik '{output_file}' został pomyślnie wygenerowany.\")"
   ]
  },
  {
   "cell_type": "code",
   "execution_count": 7,
   "id": "799d3c91-6b88-43ce-bdb0-a1868eab1e67",
   "metadata": {
    "tags": []
   },
   "outputs": [
    {
     "name": "stdout",
     "output_type": "stream",
     "text": [
      "✅ Plik 'caly_projekt.txt' został pomyślnie wygenerowany.\n"
     ]
    }
   ],
   "source": [
    "if __name__ == '__main__':\n",
    "    consolidate_project_to_txt()"
   ]
  },
  {
   "cell_type": "code",
   "execution_count": null,
   "id": "bc0f2c91-7f61-42e8-883a-b0fb76e5f3a6",
   "metadata": {},
   "outputs": [],
   "source": []
  }
 ],
 "metadata": {
  "environment": {
   "kernel": "agents_with_memory_p11",
   "name": "workbench-notebooks.m129",
   "type": "gcloud",
   "uri": "us-docker.pkg.dev/deeplearning-platform-release/gcr.io/workbench-notebooks:m129"
  },
  "kernelspec": {
   "display_name": "Agents with memory (Python 3.11)",
   "language": "python",
   "name": "agents_with_memory_p11"
  },
  "language_info": {
   "codemirror_mode": {
    "name": "ipython",
    "version": 3
   },
   "file_extension": ".py",
   "mimetype": "text/x-python",
   "name": "python",
   "nbconvert_exporter": "python",
   "pygments_lexer": "ipython3",
   "version": "3.11.13"
  }
 },
 "nbformat": 4,
 "nbformat_minor": 5
}
