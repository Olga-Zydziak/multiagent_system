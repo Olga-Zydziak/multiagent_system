{
 "cells": [
  {
   "cell_type": "code",
   "execution_count": 2,
   "id": "51a3fdf3-ca95-4a07-a5f2-6584a036cbf0",
   "metadata": {
    "tags": []
   },
   "outputs": [
    {
     "name": "stdout",
     "output_type": "stream",
     "text": [
      "Collecting pyswip\n",
      "  Using cached pyswip-0.3.3-py3-none-any.whl.metadata (5.1 kB)\n",
      "Using cached pyswip-0.3.3-py3-none-any.whl (36 kB)\n",
      "Installing collected packages: pyswip\n",
      "Successfully installed pyswip-0.3.3\n"
     ]
    }
   ],
   "source": [
    "import sys\n",
    "!{sys.executable} -m pip install pyswip"
   ]
  },
  {
   "cell_type": "code",
   "execution_count": 3,
   "id": "44c88c49-bbae-4672-9af2-0dcf4bac9950",
   "metadata": {
    "tags": []
   },
   "outputs": [],
   "source": [
    "import json\n",
    "from pyswip import Prolog\n",
    "from langchain_google_vertexai import ChatVertexAI\n",
    "from rule_compiler import compile_rules"
   ]
  },
  {
   "cell_type": "code",
   "execution_count": 9,
   "id": "bee2954f-678a-43db-9c0b-aae2038294bf",
   "metadata": {
    "tags": []
   },
   "outputs": [],
   "source": [
    "# --- Konfiguracja ---\n",
    "LOCATION=\"us-central1\"\n",
    "PROJECT_ID=\"dark-data-discovery\"\n",
    "MODEL_NAME = \"gemini-2.5-pro\"\n"
   ]
  },
  {
   "cell_type": "code",
   "execution_count": 10,
   "id": "a373ed94-c2bf-4a3e-938d-f5203b1db260",
   "metadata": {
    "tags": []
   },
   "outputs": [],
   "source": [
    "def get_llm_response(prompt: str) -> str:\n",
    "    \"\"\"Wywołuje LLM, aby uzyskać odpowiedź.\"\"\"\n",
    "    print(\"\\n--- Agent Neuronowy (LLM) tworzy odpowiedź... ---\")\n",
    "    llm = ChatVertexAI(model_name=MODEL_NAME, project=PROJECT_ID, location=LOCATION, temperature=0.5)\n",
    "    response = llm.invoke(prompt)\n",
    "    print(f\"  [ODPOWIEDŹ AGENTA]:\\n---\\n{response.content}\\n---\")\n",
    "    return response.content"
   ]
  },
  {
   "cell_type": "code",
   "execution_count": 11,
   "id": "d20deaaf-e7a2-4412-85e9-76bc55322943",
   "metadata": {
    "tags": []
   },
   "outputs": [],
   "source": [
    "def validate_response_with_prolog(response_text: str, rules_path: str) -> list:\n",
    "    \"\"\"Używa Prologu do walidacji odpowiedzi na podstawie reguł.\"\"\"\n",
    "    print(\"\\n--- Strażnik Symboliczny (Prolog) rozpoczyna walidację... ---\")\n",
    "    violations = []\n",
    "    try:\n",
    "        prolog = Prolog()\n",
    "        prolog.consult(rules_path)\n",
    "        \n",
    "        # Użyj json.dumps, aby bezpiecznie przekazać string do Prologu\n",
    "        safe_content = json.dumps(response_text)\n",
    "        \n",
    "        query = f\"policy_violation({safe_content}, ViolationMessage)\"\n",
    "        results = list(prolog.query(query))\n",
    "        \n",
    "        if results:\n",
    "            for result in results:\n",
    "                violations.append(result[\"ViolationMessage\"])\n",
    "    except Exception as e:\n",
    "        violations.append(f\"Błąd krytyczny silnika Prolog: {e}\")\n",
    "        \n",
    "    return violations"
   ]
  },
  {
   "cell_type": "code",
   "execution_count": 12,
   "id": "47a976f2-0114-4f10-8212-ddd543c8fe36",
   "metadata": {
    "tags": []
   },
   "outputs": [],
   "source": [
    "def main():\n",
    "    # 1. Skompiluj najnowsze reguły z JSON do Prologu\n",
    "    compile_rules()\n",
    "\n",
    "    # 2. Agent generuje odpowiedź ZGODNĄ z regułami\n",
    "    prompt_compliant = \"Napisz krótkiego e-maila do klienta, w którym przeprosisz za opóźnienie paczki i zaoferujesz kupon rabatowy na następne zakupy. Nie podawaj konkretnej daty dostawy.\"\n",
    "    compliant_response = get_llm_response(prompt_compliant)\n",
    "    \n",
    "    # 3. Agent generuje odpowiedź ŁAMIĄCĄ reguły\n",
    "    prompt_violating = \"Napisz krótkiego e-maila do klienta i obiecaj mu, że paczka na pewno będzie jutro. Nie przepraszaj i nie oferuj żadnych zniżek.\"\n",
    "    violating_response = get_llm_response(prompt_violating)\n",
    "\n",
    "    # 4. Uruchom walidację dla obu odpowiedzi\n",
    "    compliant_violations = validate_response_with_prolog(compliant_response, \"customer_policies.pl\")\n",
    "    if not compliant_violations:\n",
    "        print(\"  [WERDYKT] ✅ Odpowiedź ZGODNA z polityką firmy.\")\n",
    "    else:\n",
    "        print(f\"  [WERDYKT] ❌ Odpowiedź NIEZGODNA. Naruszone reguły: {compliant_violations}\")\n",
    "\n",
    "    violating_violations = validate_response_with_prolog(violating_response, \"customer_policies.pl\")\n",
    "    if not violating_violations:\n",
    "        print(\"  [WERDYKT] ✅ Odpowiedź ZGODNA z polityką firmy.\")\n",
    "    else:\n",
    "        print(f\"  [WERDYKT] ❌ Odpowiedź NIEZGODNA. Naruszone reguły: {violating_violations}\")"
   ]
  },
  {
   "cell_type": "code",
   "execution_count": 13,
   "id": "08d9c323-c0bc-4ea1-bf3b-946b5a89ba80",
   "metadata": {
    "tags": []
   },
   "outputs": [
    {
     "name": "stdout",
     "output_type": "stream",
     "text": [
      "--- 1. Wczytywanie reguł z `customer_service_rules.json` ---\n",
      "--- 2. Kompilowanie reguł do `customer_policies.pl` ---\n",
      "  [SUKCES] Pomyślnie skompilowano reguły.\n",
      "\n",
      "--- Agent Neuronowy (LLM) tworzy odpowiedź... ---\n",
      "  [ODPOWIEDŹ AGENTA]:\n",
      "---\n",
      "Jasne, oto propozycja krótkiego e-maila w dwóch wersjach – bardziej formalnej i nieco luźniejszej.\n",
      "\n",
      "---\n",
      "\n",
      "### Wersja 1 (Standardowa i formalna)\n",
      "\n",
      "**Temat:** Informacja dotycząca opóźnienia zamówienia nr [Numer Zamówienia]\n",
      "\n",
      "Dzień dobry,\n",
      "\n",
      "piszemy w sprawie Pana/Pani zamówienia nr [Numer Zamówienia].\n",
      "\n",
      "Chcielibyśmy najmocniej przeprosić za opóźnienie w jego dostawie. Z powodu nieprzewidzianych problemów logistycznych wysyłka paczki nieznacznie się przesunęła. Robimy wszystko, co w naszej mocy, aby dotarła do Pana/Pani jak najszybciej.\n",
      "\n",
      "W ramach rekompensaty za niedogodności przygotowaliśmy dla Pana/Pani kupon rabatowy w wysokości **[np. 15%]** na kolejne zakupy. Wystarczy użyć kodu: **[KOD_RABATOWY]**\n",
      "\n",
      "Jeszcze raz przepraszamy i dziękujemy za wyrozumiałość.\n",
      "\n",
      "Z poważaniem,  \n",
      "Zespół [Nazwa Twojej Firmy]\n",
      "\n",
      "---\n",
      "\n",
      "### Wersja 2 (Bardziej bezpośrednia i luźniejsza)\n",
      "\n",
      "**Temat:** Twoje zamówienie jest opóźnione – przepraszamy!\n",
      "\n",
      "Cześć [Imię Klienta],\n",
      "\n",
      "chcemy Cię poinformować i od razu przeprosić – Twoje zamówienie nr [Numer Zamówienia] ma niewielkie opóźnienie. Pracujemy już nad tym, aby paczka ruszyła w drogę jak najszybciej.\n",
      "\n",
      "Rozumiemy, że czekanie bywa frustrujące, dlatego w ramach przeprosin mamy dla Ciebie kod rabatowy **[np. 15%]** na następne zakupy: **[KOD_RABATOWY]**\n",
      "\n",
      "Dziękujemy za Twoją cierpliwość!\n",
      "\n",
      "Pozdrawiamy,  \n",
      "Ekipa [Nazwa Twojej Firmy]\n",
      "---\n",
      "\n",
      "--- Agent Neuronowy (LLM) tworzy odpowiedź... ---\n",
      "  [ODPOWIEDŹ AGENTA]:\n",
      "---\n",
      "Jasne, oto kilka wersji, od najbardziej zwięzłej po nieco bardziej rozbudowaną.\n",
      "\n",
      "---\n",
      "\n",
      "### Wersja 1 (Bardzo krótka i bezpośrednia)\n",
      "\n",
      "**Temat:** Informacja o dostawie zamówienia nr [Numer zamówienia]\n",
      "\n",
      "Dzień dobry,\n",
      "\n",
      "Potwierdzamy, że Pana/Pani paczka zostanie dostarczona w dniu jutrzejszym.\n",
      "\n",
      "Pozdrawiamy,\n",
      "Zespół [Nazwa Firmy]\n",
      "\n",
      "---\n",
      "\n",
      "### Wersja 2 (Standardowa i profesjonalna)\n",
      "\n",
      "**Temat:** Potwierdzenie jutrzejszej dostawy zamówienia nr [Numer zamówienia]\n",
      "\n",
      "Dzień dobry,\n",
      "\n",
      "Uprzejmie informujemy, że Pana/Pani zamówienie jest już w drodze. Potwierdzamy, że kurier dostarczy przesyłkę pod wskazany adres już jutro.\n",
      "\n",
      "Z pozdrowieniami,\n",
      "Zespół [Nazwa Firmy]\n",
      "---\n",
      "\n",
      "--- Strażnik Symboliczny (Prolog) rozpoczyna walidację... ---\n",
      "  [WERDYKT] ✅ Odpowiedź ZGODNA z polityką firmy.\n",
      "\n",
      "--- Strażnik Symboliczny (Prolog) rozpoczyna walidację... ---\n",
      "  [WERDYKT] ❌ Odpowiedź NIEZGODNA. Naruszone reguły: ['Odpowiedź nie zawiera przeprosin.', 'Odpowiedź nie oferuje klientowi żadnej formy rekompensaty (kuponu/rabatu).']\n"
     ]
    }
   ],
   "source": [
    "if __name__ == \"__main__\":\n",
    "    main()"
   ]
  },
  {
   "cell_type": "code",
   "execution_count": null,
   "id": "7d369aab-1348-4dcf-8cff-cdb3d60f1b1f",
   "metadata": {},
   "outputs": [],
   "source": []
  }
 ],
 "metadata": {
  "environment": {
   "kernel": "agents_with_memory_p11",
   "name": "workbench-notebooks.m129",
   "type": "gcloud",
   "uri": "us-docker.pkg.dev/deeplearning-platform-release/gcr.io/workbench-notebooks:m129"
  },
  "kernelspec": {
   "display_name": "Agents with memory (Python 3.11)",
   "language": "python",
   "name": "agents_with_memory_p11"
  },
  "language_info": {
   "codemirror_mode": {
    "name": "ipython",
    "version": 3
   },
   "file_extension": ".py",
   "mimetype": "text/x-python",
   "name": "python",
   "nbconvert_exporter": "python",
   "pygments_lexer": "ipython3",
   "version": "3.11.13"
  }
 },
 "nbformat": 4,
 "nbformat_minor": 5
}
